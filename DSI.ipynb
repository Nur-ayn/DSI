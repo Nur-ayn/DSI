{
  "nbformat": 4,
  "nbformat_minor": 0,
  "metadata": {
    "colab": {
      "name": "DSI.ipynb",
      "provenance": [],
      "collapsed_sections": [],
      "mount_file_id": "1mv_d7FFrumMVjRcNsryKZxmiGbsv5kFZ",
      "authorship_tag": "ABX9TyOrGxRLLX1hiDvupD7ROreX",
      "include_colab_link": true
    },
    "kernelspec": {
      "name": "python3",
      "display_name": "Python 3"
    },
    "language_info": {
      "name": "python"
    }
  },
  "cells": [
    {
      "cell_type": "markdown",
      "metadata": {
        "id": "view-in-github",
        "colab_type": "text"
      },
      "source": [
        "<a href=\"https://colab.research.google.com/github/Nur-ayn/DSI/blob/main/DSI.ipynb\" target=\"_parent\"><img src=\"https://colab.research.google.com/assets/colab-badge.svg\" alt=\"Open In Colab\"/></a>"
      ]
    },
    {
      "cell_type": "markdown",
      "metadata": {
        "id": "uR5Fyc816u67"
      },
      "source": [
        "**Data Science with Pandas**\n",
        "\n",
        "This colab can be found on my github along with the answer for Question 1 in [this repo](https://github.com/Nur-ayn/DSI)"
      ]
    },
    {
      "cell_type": "code",
      "metadata": {
        "colab": {
          "base_uri": "https://localhost:8080/"
        },
        "id": "60v1wq7w7Ntw",
        "outputId": "d61cd969-53ef-428a-e98c-50ab7e1c9bbf"
      },
      "source": [
        "import pandas as pd\n",
        "from google.colab import drive\n",
        "\n",
        "files = ['title.akas.tsv.gz',\n",
        "         'title.basics.tsv.gz',\n",
        "         'title.ratings.tsv.gz']\n",
        "\n",
        "data_frames\n",
        "\n",
        "for file in files:\n",
        "  df = pd.read_csv(file, compression='gzip', sep='\\t')\n",
        "  data_frames.append(df)\n",
        "  print(df)\n"
      ],
      "execution_count": 17,
      "outputs": [
        {
          "output_type": "stream",
          "name": "stdout",
          "text": [
            "https://drive.google.com/uc?export=download&id=1jHKr1FOCigt15gVhrNmtHCHRgzzR1ZGc\n"
          ]
        },
        {
          "output_type": "stream",
          "name": "stderr",
          "text": [
            "/usr/local/lib/python3.7/dist-packages/IPython/core/interactiveshell.py:2718: DtypeWarning: Columns (7) have mixed types.Specify dtype option on import or set low_memory=False.\n",
            "  interactivity=interactivity, compiler=compiler, result=result)\n"
          ]
        },
        {
          "output_type": "stream",
          "name": "stdout",
          "text": [
            "           titleId  ordering  ... attributes isOriginalTitle\n",
            "0        tt0000001         1  ...         \\N               0\n",
            "1        tt0000001         2  ...         \\N               0\n",
            "2        tt0000001         3  ...         \\N               0\n",
            "3        tt0000001         4  ...         \\N               1\n",
            "4        tt0000002         1  ...         \\N               1\n",
            "...            ...       ...  ...        ...             ...\n",
            "3423655  tt9118622         2  ...         \\N               0\n",
            "3423656  tt9118622         3  ...         \\N               1\n",
            "3423657  tt9118622         4  ...         \\N               0\n",
            "3423658  tt9118622         5  ...         \\N               0\n",
            "3423659  tt9118622         6  ...         \\N               0\n",
            "\n",
            "[3423660 rows x 8 columns]\n",
            "80                \\N\n",
            "81                \\N\n",
            "82    informal title\n",
            "83                \\N\n",
            "84                \\N\n",
            "85                \\N\n",
            "86                \\N\n",
            "87                \\N\n",
            "88                \\N\n",
            "89                \\N\n",
            "90                \\N\n",
            "91                \\N\n",
            "92                \\N\n",
            "93                \\N\n",
            "94                \\N\n",
            "95                \\N\n",
            "96                \\N\n",
            "97                \\N\n",
            "98                \\N\n",
            "99                \\N\n",
            "Name: attributes, dtype: object\n"
          ]
        }
      ]
    }
  ]
}