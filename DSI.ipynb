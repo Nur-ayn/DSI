{
  "nbformat": 4,
  "nbformat_minor": 0,
  "metadata": {
    "colab": {
      "name": "DSI.ipynb",
      "provenance": [],
      "collapsed_sections": [],
      "toc_visible": true,
      "authorship_tag": "ABX9TyNXTfYvCJsyV1U12ys942Ax",
      "include_colab_link": true
    },
    "kernelspec": {
      "name": "python3",
      "display_name": "Python 3"
    },
    "language_info": {
      "name": "python"
    }
  },
  "cells": [
    {
      "cell_type": "markdown",
      "metadata": {
        "id": "view-in-github",
        "colab_type": "text"
      },
      "source": [
        "<a href=\"https://colab.research.google.com/github/Nur-ayn/DSI/blob/main/DSI.ipynb\" target=\"_parent\"><img src=\"https://colab.research.google.com/assets/colab-badge.svg\" alt=\"Open In Colab\"/></a>"
      ]
    },
    {
      "cell_type": "markdown",
      "metadata": {
        "id": "uR5Fyc816u67"
      },
      "source": [
        "**Data Science with Pandas**\n",
        "\n",
        "This colab can be found on my github along with the answer for Question 1 in [this repo](https://github.com/Nur-ayn/DSI)"
      ]
    },
    {
      "cell_type": "markdown",
      "metadata": {
        "id": "RK-UEtsZYpY1"
      },
      "source": [
        "# Reading in Files"
      ]
    },
    {
      "cell_type": "code",
      "metadata": {
        "colab": {
          "base_uri": "https://localhost:8080/"
        },
        "id": "60v1wq7w7Ntw",
        "outputId": "c0718357-aa6d-44d7-99bc-a4cdc20cdcbe"
      },
      "source": [
        "import pandas as pd\n",
        "from google.colab import drive\n",
        "\n",
        "pd.set_option('display.max_columns', 500)\n",
        "drive.mount('/content/gdrive', force_remount=True)\n",
        "\n",
        "files = ['title.akas.tsv.gz',\n",
        "         'title.basics.tsv.gz',\n",
        "         'title.ratings.tsv.gz']\n",
        "\n",
        "dataframes = []\n",
        "\n",
        "for file in files:\n",
        "  df = pd.read_csv(f\"/content/gdrive/MyDrive/datasets/{file}\", compression='gzip', sep='\\t')\n",
        "  dataframes.append(df)\n"
      ],
      "execution_count": 1,
      "outputs": [
        {
          "output_type": "stream",
          "name": "stdout",
          "text": [
            "Mounted at /content/gdrive\n"
          ]
        },
        {
          "output_type": "stream",
          "name": "stderr",
          "text": [
            "/usr/local/lib/python3.7/dist-packages/IPython/core/interactiveshell.py:2718: DtypeWarning: Columns (7) have mixed types.Specify dtype option on import or set low_memory=False.\n",
            "  interactivity=interactivity, compiler=compiler, result=result)\n",
            "/usr/local/lib/python3.7/dist-packages/IPython/core/interactiveshell.py:2718: DtypeWarning: Columns (5) have mixed types.Specify dtype option on import or set low_memory=False.\n",
            "  interactivity=interactivity, compiler=compiler, result=result)\n"
          ]
        }
      ]
    },
    {
      "cell_type": "markdown",
      "metadata": {
        "id": "AAJkoluYY0BI"
      },
      "source": [
        "# Merging Dataframes"
      ]
    },
    {
      "cell_type": "code",
      "metadata": {
        "id": "tVFkMFDHnd7C"
      },
      "source": [
        "for df in dataframes:\n",
        "  df.drop_duplicates(inplace=True)\n",
        "\n",
        "akas, basics, ratings = dataframes[0], dataframes[1], dataframes[2]\n"
      ],
      "execution_count": 2,
      "outputs": []
    },
    {
      "cell_type": "code",
      "metadata": {
        "colab": {
          "base_uri": "https://localhost:8080/"
        },
        "id": "zQ6fu5_f6Gbn",
        "outputId": "3a95d5b7-1d82-418e-a478-c3b7513a7f90"
      },
      "source": [
        "pd.set_option('display.max_columns', 20)\n",
        "\n",
        "big_df_inner = akas.merge(basics, how='inner', left_on='titleId', right_on='tconst') \\\n",
        "               .merge(ratings, how='inner', left_on='titleId', right_on='tconst')\n",
        "big_df_outer = akas.merge(basics, how='outer', left_on='titleId', right_on='tconst') \\\n",
        "               .merge(ratings, how='outer', left_on='titleId', right_on='tconst')\n",
        "print(big_df_inner)\n",
        "print(big_df_outer)"
      ],
      "execution_count": 3,
      "outputs": [
        {
          "output_type": "stream",
          "name": "stdout",
          "text": [
            "           titleId  ordering                         title region language  \\\n",
            "0        tt0000001         1     Carmencita - spanyol tánc     HU       \\N   \n",
            "1        tt0000001         2                    Карменсита     RU       \\N   \n",
            "2        tt0000001         3                    Carmencita     US       \\N   \n",
            "3        tt0000001         4                    Carmencita     \\N       \\N   \n",
            "4        tt0000002         1        Le clown et ses chiens     \\N       \\N   \n",
            "...            ...       ...                           ...    ...      ...   \n",
            "1686542  tt9100068         2               Птичий праздник   SUHH       ru   \n",
            "1686543  tt9100098         1           Малиновка и медведь   SUHH       ru   \n",
            "1686544  tt9100098         2            Malinovka i medved     \\N       \\N   \n",
            "1686545  tt9100972         1  Kogda Medvezhonok prosnetsya     \\N       \\N   \n",
            "1686546  tt9100972         2    Когда Медвежонок проснется   SUHH       ru   \n",
            "\n",
            "               types attributes isOriginalTitle   tconst_x titleType  \\\n",
            "0        imdbDisplay         \\N               0  tt0000001     short   \n",
            "1                 \\N         \\N               0  tt0000001     short   \n",
            "2                 \\N         \\N               0  tt0000001     short   \n",
            "3           original         \\N               1  tt0000001     short   \n",
            "4           original         \\N               1  tt0000002     short   \n",
            "...              ...        ...             ...        ...       ...   \n",
            "1686542           \\N         \\N               0  tt9100068     short   \n",
            "1686543           \\N         \\N               0  tt9100098     short   \n",
            "1686544     original         \\N               1  tt9100098     short   \n",
            "1686545     original         \\N               1  tt9100972     short   \n",
            "1686546           \\N         \\N               0  tt9100972     short   \n",
            "\n",
            "                         primaryTitle                 originalTitle  isAdult  \\\n",
            "0                          Carmencita                    Carmencita        0   \n",
            "1                          Carmencita                    Carmencita        0   \n",
            "2                          Carmencita                    Carmencita        0   \n",
            "3                          Carmencita                    Carmencita        0   \n",
            "4              Le clown et ses chiens        Le clown et ses chiens        0   \n",
            "...                               ...                           ...      ...   \n",
            "1686542              Ptichiy prazdnik              Ptichiy prazdnik        0   \n",
            "1686543            Malinovka i medved            Malinovka i medved        0   \n",
            "1686544            Malinovka i medved            Malinovka i medved        0   \n",
            "1686545  Kogda Medvezhonok prosnetsya  Kogda Medvezhonok prosnetsya        0   \n",
            "1686546  Kogda Medvezhonok prosnetsya  Kogda Medvezhonok prosnetsya        0   \n",
            "\n",
            "        startYear endYear runtimeMinutes             genres   tconst_y  \\\n",
            "0            1894      \\N              1  Documentary,Short  tt0000001   \n",
            "1            1894      \\N              1  Documentary,Short  tt0000001   \n",
            "2            1894      \\N              1  Documentary,Short  tt0000001   \n",
            "3            1894      \\N              1  Documentary,Short  tt0000001   \n",
            "4            1892      \\N              5    Animation,Short  tt0000002   \n",
            "...           ...     ...            ...                ...        ...   \n",
            "1686542      1976      \\N              9    Animation,Short  tt9100068   \n",
            "1686543      1983      \\N              9    Animation,Short  tt9100098   \n",
            "1686544      1983      \\N              9    Animation,Short  tt9100098   \n",
            "1686545      1979      \\N             16    Animation,Short  tt9100972   \n",
            "1686546      1979      \\N             16    Animation,Short  tt9100972   \n",
            "\n",
            "         averageRating  numVotes  \n",
            "0                  5.8      1422  \n",
            "1                  5.8      1422  \n",
            "2                  5.8      1422  \n",
            "3                  5.8      1422  \n",
            "4                  6.4       168  \n",
            "...                ...       ...  \n",
            "1686542            7.0         5  \n",
            "1686543            7.0         5  \n",
            "1686544            7.0         5  \n",
            "1686545            7.0         5  \n",
            "1686546            7.0         5  \n",
            "\n",
            "[1686547 rows x 20 columns]\n",
            "           titleId  ordering                      title region language  \\\n",
            "0        tt0000001       1.0  Carmencita - spanyol tánc     HU       \\N   \n",
            "1        tt0000001       2.0                 Карменсита     RU       \\N   \n",
            "2        tt0000001       3.0                 Carmencita     US       \\N   \n",
            "3        tt0000001       4.0                 Carmencita     \\N       \\N   \n",
            "4        tt0000002       1.0     Le clown et ses chiens     \\N       \\N   \n",
            "...            ...       ...                        ...    ...      ...   \n",
            "7029493        NaN       NaN                        NaN    NaN      NaN   \n",
            "7029494        NaN       NaN                        NaN    NaN      NaN   \n",
            "7029495        NaN       NaN                        NaN    NaN      NaN   \n",
            "7029496        NaN       NaN                        NaN    NaN      NaN   \n",
            "7029497        NaN       NaN                        NaN    NaN      NaN   \n",
            "\n",
            "               types attributes isOriginalTitle   tconst_x titleType  \\\n",
            "0        imdbDisplay         \\N               0  tt0000001     short   \n",
            "1                 \\N         \\N               0  tt0000001     short   \n",
            "2                 \\N         \\N               0  tt0000001     short   \n",
            "3           original         \\N               1  tt0000001     short   \n",
            "4           original         \\N               1  tt0000002     short   \n",
            "...              ...        ...             ...        ...       ...   \n",
            "7029493          NaN        NaN             NaN        NaN       NaN   \n",
            "7029494          NaN        NaN             NaN        NaN       NaN   \n",
            "7029495          NaN        NaN             NaN        NaN       NaN   \n",
            "7029496          NaN        NaN             NaN        NaN       NaN   \n",
            "7029497          NaN        NaN             NaN        NaN       NaN   \n",
            "\n",
            "                   primaryTitle           originalTitle  isAdult startYear  \\\n",
            "0                    Carmencita              Carmencita      0.0      1894   \n",
            "1                    Carmencita              Carmencita      0.0      1894   \n",
            "2                    Carmencita              Carmencita      0.0      1894   \n",
            "3                    Carmencita              Carmencita      0.0      1894   \n",
            "4        Le clown et ses chiens  Le clown et ses chiens      0.0      1892   \n",
            "...                         ...                     ...      ...       ...   \n",
            "7029493                     NaN                     NaN      NaN       NaN   \n",
            "7029494                     NaN                     NaN      NaN       NaN   \n",
            "7029495                     NaN                     NaN      NaN       NaN   \n",
            "7029496                     NaN                     NaN      NaN       NaN   \n",
            "7029497                     NaN                     NaN      NaN       NaN   \n",
            "\n",
            "        endYear runtimeMinutes             genres   tconst_y  averageRating  \\\n",
            "0            \\N              1  Documentary,Short  tt0000001            5.8   \n",
            "1            \\N              1  Documentary,Short  tt0000001            5.8   \n",
            "2            \\N              1  Documentary,Short  tt0000001            5.8   \n",
            "3            \\N              1  Documentary,Short  tt0000001            5.8   \n",
            "4            \\N              5    Animation,Short  tt0000002            6.4   \n",
            "...         ...            ...                ...        ...            ...   \n",
            "7029493     NaN            NaN                NaN  tt9099102            4.0   \n",
            "7029494     NaN            NaN                NaN  tt9104810            7.0   \n",
            "7029495     NaN            NaN                NaN  tt9106766            7.6   \n",
            "7029496     NaN            NaN                NaN  tt9107292            8.4   \n",
            "7029497     NaN            NaN                NaN  tt9112162            9.9   \n",
            "\n",
            "         numVotes  \n",
            "0          1422.0  \n",
            "1          1422.0  \n",
            "2          1422.0  \n",
            "3          1422.0  \n",
            "4           168.0  \n",
            "...           ...  \n",
            "7029493      14.0  \n",
            "7029494       7.0  \n",
            "7029495       5.0  \n",
            "7029496      10.0  \n",
            "7029497      10.0  \n",
            "\n",
            "[7029498 rows x 20 columns]\n"
          ]
        }
      ]
    },
    {
      "cell_type": "markdown",
      "metadata": {
        "id": "x7ny-yK7VAAd"
      },
      "source": [
        "An inner merge only retains rows where the column in one table (eg titleId) has a match with another column (eg tconst) in another table. An outer merge will still retain the rows where a match cannot be found between the tables and will fill in any empty columns with a NaN.  Consequently, the outer merge has considerably more rows than the inner merge."
      ]
    },
    {
      "cell_type": "code",
      "metadata": {
        "colab": {
          "base_uri": "https://localhost:8080/"
        },
        "id": "ItRmtUgoXLeu",
        "outputId": "2303d02e-501a-4a7f-b25b-80f1ca8f040c"
      },
      "source": [
        "unique_title_types = big_df_inner['titleType'].unique()\n",
        "num_unique_title_types = big_df_inner['titleType'].nunique()\n",
        "print(f\"The {num_unique_title_types} unique title types are {', '.join(unique_title_types)}\")\n"
      ],
      "execution_count": 4,
      "outputs": [
        {
          "output_type": "stream",
          "name": "stdout",
          "text": [
            "The 10 unique title types are short, movie, tvMovie, tvSeries, tvEpisode, tvShort, tvMiniSeries, tvSpecial, video, videoGame\n"
          ]
        }
      ]
    },
    {
      "cell_type": "markdown",
      "metadata": {
        "id": "Kx2aH3jpZDHh"
      },
      "source": [
        "# Filtering Data"
      ]
    },
    {
      "cell_type": "code",
      "metadata": {
        "colab": {
          "base_uri": "https://localhost:8080/"
        },
        "id": "DAmYCTrNZJ5v",
        "outputId": "1b64be96-8397-4b13-94ac-29c7c9aaa099"
      },
      "source": [
        "df_new = big_df_inner.loc[ ((big_df_inner['language'] == 'en') | (big_df_inner['region'] == 'US')) & (big_df_inner['titleType'] == 'movie') ]\n",
        "print(df_new.head())\n"
      ],
      "execution_count": 5,
      "outputs": [
        {
          "output_type": "stream",
          "name": "stdout",
          "text": [
            "        titleId  ordering                           title region language  \\\n",
            "51    tt0000009         3                      Miss Jerry     US       \\N   \n",
            "574   tt0000147         1   The Corbett-Fitzsimmons Fight     US       \\N   \n",
            "1446  tt0000630         4                          Hamlet     US       \\N   \n",
            "1520  tt0000679         1  The Fairylogue and Radio-Plays     US       \\N   \n",
            "1797  tt0000886         2       Hamlet, Prince of Denmark     US       \\N   \n",
            "\n",
            "     types attributes isOriginalTitle   tconst_x titleType  \\\n",
            "51      \\N         \\N               0  tt0000009     movie   \n",
            "574     \\N         \\N               0  tt0000147     movie   \n",
            "1446    \\N         \\N               0  tt0000630     movie   \n",
            "1520    \\N         \\N               0  tt0000679     movie   \n",
            "1797    \\N         \\N               0  tt0000886     movie   \n",
            "\n",
            "                        primaryTitle                   originalTitle  isAdult  \\\n",
            "51                        Miss Jerry                      Miss Jerry        0   \n",
            "574    The Corbett-Fitzsimmons Fight   The Corbett-Fitzsimmons Fight        0   \n",
            "1446                          Hamlet                          Amleto        0   \n",
            "1520  The Fairylogue and Radio-Plays  The Fairylogue and Radio-Plays        0   \n",
            "1797       Hamlet, Prince of Denmark                          Hamlet        0   \n",
            "\n",
            "     startYear endYear runtimeMinutes                  genres   tconst_y  \\\n",
            "51        1894      \\N             45                 Romance  tt0000009   \n",
            "574       1897      \\N             20  Documentary,News,Sport  tt0000147   \n",
            "1446      1908      \\N             \\N                   Drama  tt0000630   \n",
            "1520      1908      \\N            120       Adventure,Fantasy  tt0000679   \n",
            "1797      1910      \\N             \\N                   Drama  tt0000886   \n",
            "\n",
            "      averageRating  numVotes  \n",
            "51              5.5        70  \n",
            "574             5.2       266  \n",
            "1446            3.1        10  \n",
            "1520            5.9        26  \n",
            "1797            5.2        16  \n"
          ]
        }
      ]
    },
    {
      "cell_type": "code",
      "metadata": {
        "colab": {
          "base_uri": "https://localhost:8080/"
        },
        "id": "AXdsinl9AtwG",
        "outputId": "825dda67-3b8c-4a64-a126-f6470fcc4c29"
      },
      "source": [
        " import numpy as np\n",
        " \n",
        " df_new['log10Votes'] = np.log10(df_new['numVotes'])\n",
        " df_new['genres'] = df_new['genres'].str.lower()\n",
        " print(df_new)"
      ],
      "execution_count": 6,
      "outputs": [
        {
          "output_type": "stream",
          "name": "stdout",
          "text": [
            "           titleId  ordering                               title region  \\\n",
            "51       tt0000009         3                          Miss Jerry     US   \n",
            "574      tt0000147         1       The Corbett-Fitzsimmons Fight     US   \n",
            "1446     tt0000630         4                              Hamlet     US   \n",
            "1520     tt0000679         1      The Fairylogue and Radio-Plays     US   \n",
            "1797     tt0000886         2           Hamlet, Prince of Denmark     US   \n",
            "...            ...       ...                                 ...    ...   \n",
            "1686422  tt9020894         4              Temporary Difficulties     US   \n",
            "1686485  tt9056646         3                              Bearer    XWW   \n",
            "1686494  tt9060058         3              The Wind Sculpted Land    XWW   \n",
            "1686520  tt9081472         2         Physicians of Aickarakkonam     IN   \n",
            "1686522  tt9081572         2  What Have We Done to Deserve This?    XWW   \n",
            "\n",
            "        language        types             attributes isOriginalTitle  \\\n",
            "51            \\N           \\N                     \\N               0   \n",
            "574           \\N           \\N                     \\N               0   \n",
            "1446          \\N           \\N                     \\N               0   \n",
            "1520          \\N           \\N                     \\N               0   \n",
            "1797          \\N           \\N                     \\N               0   \n",
            "...          ...          ...                    ...             ...   \n",
            "1686422       \\N  imdbDisplay                     \\N               0   \n",
            "1686485       en  imdbDisplay                     \\N               0   \n",
            "1686494       en  alternative                     \\N               0   \n",
            "1686520       en           \\N  literal English title               0   \n",
            "1686522       en  imdbDisplay                     \\N               0   \n",
            "\n",
            "          tconst_x titleType  ...                     originalTitle isAdult  \\\n",
            "51       tt0000009     movie  ...                        Miss Jerry       0   \n",
            "574      tt0000147     movie  ...     The Corbett-Fitzsimmons Fight       0   \n",
            "1446     tt0000630     movie  ...                            Amleto       0   \n",
            "1520     tt0000679     movie  ...    The Fairylogue and Radio-Plays       0   \n",
            "1797     tt0000886     movie  ...                            Hamlet       0   \n",
            "...            ...       ...  ...                               ...     ...   \n",
            "1686422  tt9020894     movie  ...               Vremennye trudnosti       0   \n",
            "1686485  tt9056646     movie  ...                   Dar Vajhe Hamel       0   \n",
            "1686494  tt9060058     movie  ...                Tuulte tahutud maa       0   \n",
            "1686520  tt9081472     movie  ...  Aickarakkonathe Bhishaguaranmaar       0   \n",
            "1686522  tt9081572     movie  ...     Womit haben wir das verdient?       0   \n",
            "\n",
            "         startYear endYear runtimeMinutes                  genres   tconst_y  \\\n",
            "51            1894      \\N             45                 romance  tt0000009   \n",
            "574           1897      \\N             20  documentary,news,sport  tt0000147   \n",
            "1446          1908      \\N             \\N                   drama  tt0000630   \n",
            "1520          1908      \\N            120       adventure,fantasy  tt0000679   \n",
            "1797          1910      \\N             \\N                   drama  tt0000886   \n",
            "...            ...     ...            ...                     ...        ...   \n",
            "1686422       2018      \\N             86                   drama  tt9020894   \n",
            "1686485       2018      \\N             90                   drama  tt9056646   \n",
            "1686494       2018      \\N             63             documentary  tt9060058   \n",
            "1686520       2018      \\N            144                   drama  tt9081472   \n",
            "1686522       2018      \\N             91                  comedy  tt9081572   \n",
            "\n",
            "        averageRating  numVotes  log10Votes  \n",
            "51                5.5        70    1.845098  \n",
            "574               5.2       266    2.424882  \n",
            "1446              3.1        10    1.000000  \n",
            "1520              5.9        26    1.414973  \n",
            "1797              5.2        16    1.204120  \n",
            "...               ...       ...         ...  \n",
            "1686422           4.5        20    1.301030  \n",
            "1686485           7.0         9    0.954243  \n",
            "1686494           8.1        17    1.230449  \n",
            "1686520           9.1       213    2.328380  \n",
            "1686522           6.6         8    0.903090  \n",
            "\n",
            "[160034 rows x 21 columns]\n"
          ]
        },
        {
          "output_type": "stream",
          "name": "stderr",
          "text": [
            "/usr/local/lib/python3.7/dist-packages/ipykernel_launcher.py:3: SettingWithCopyWarning: \n",
            "A value is trying to be set on a copy of a slice from a DataFrame.\n",
            "Try using .loc[row_indexer,col_indexer] = value instead\n",
            "\n",
            "See the caveats in the documentation: https://pandas.pydata.org/pandas-docs/stable/user_guide/indexing.html#returning-a-view-versus-a-copy\n",
            "  This is separate from the ipykernel package so we can avoid doing imports until\n",
            "/usr/local/lib/python3.7/dist-packages/ipykernel_launcher.py:4: SettingWithCopyWarning: \n",
            "A value is trying to be set on a copy of a slice from a DataFrame.\n",
            "Try using .loc[row_indexer,col_indexer] = value instead\n",
            "\n",
            "See the caveats in the documentation: https://pandas.pydata.org/pandas-docs/stable/user_guide/indexing.html#returning-a-view-versus-a-copy\n",
            "  after removing the cwd from sys.path.\n"
          ]
        }
      ]
    },
    {
      "cell_type": "markdown",
      "metadata": {
        "id": "osSV5KRbEldl"
      },
      "source": [
        "# Grouping Data"
      ]
    },
    {
      "cell_type": "code",
      "metadata": {
        "colab": {
          "base_uri": "https://localhost:8080/"
        },
        "id": "r6wx8MIBEqaE",
        "outputId": "837d6819-048b-4e60-b105-785b412abe8d"
      },
      "source": [
        "import numpy as np\n",
        "\n",
        "top10_by_votes = df_new.groupby('genres')['log10Votes'].mean().nlargest(10)\n",
        "print(f\"The top 10 genres by votes are \\n {top10_by_votes}\")\n",
        "top10_by_rating = df_new.groupby('genres')['averageRating'].mean().nlargest(10)\n",
        "print(f\"The top 10 genres by rating are \\n {top10_by_rating}\")\n"
      ],
      "execution_count": 7,
      "outputs": [
        {
          "output_type": "stream",
          "name": "stdout",
          "text": [
            "The top 10 genres by votes are \n",
            " genres\n",
            "action,fantasy,war            5.405722\n",
            "action,family,romance         4.801753\n",
            "animation,drama,war           4.396304\n",
            "family,music,musical          4.396252\n",
            "documentary,sport,thriller    4.386731\n",
            "action,adventure,sci-fi       4.373261\n",
            "horror,musical,sci-fi         4.340484\n",
            "biography,fantasy,horror      4.271842\n",
            "adventure,sci-fi,thriller     4.180897\n",
            "adventure,drama,sci-fi        4.123983\n",
            "Name: log10Votes, dtype: float64\n",
            "The top 10 genres by rating are \n",
            " genres\n",
            "documentary,history,western        9.300000\n",
            "history,sport                      9.200000\n",
            "documentary,news,reality-tv        8.800000\n",
            "animation,crime,documentary        8.525000\n",
            "biography,history,music            8.500000\n",
            "adventure,documentary,western      8.433333\n",
            "documentary,drama,thriller         8.433333\n",
            "comedy,mystery,sport               8.400000\n",
            "action,documentary,fantasy         8.300000\n",
            "biography,documentary,talk-show    8.300000\n",
            "Name: averageRating, dtype: float64\n"
          ]
        }
      ]
    },
    {
      "cell_type": "markdown",
      "metadata": {
        "id": "nT76KABVhzmG"
      },
      "source": [
        "The first method of grouping looks at combinations of genres instead of each genre individually.  To look at genres individually, we can split the strings in the genres column and then explode the votes or ratings so that it applies to each of the genres that a title belongs to. This is done below."
      ]
    },
    {
      "cell_type": "code",
      "metadata": {
        "colab": {
          "base_uri": "https://localhost:8080/"
        },
        "id": "t4h_JTZ5bw8C",
        "outputId": "2526cd98-f6b9-4b30-c0d8-e4c7b8e9e3e1"
      },
      "source": [
        "array_genres = df_new['genres'].apply(lambda x: x.split(','))\n",
        "\n",
        "df_new = df_new.reset_index()\n",
        "top10_by_votes = df_new.log10Votes.repeat(array_genres.str.len()).groupby(np.concatenate(array_genres)).mean().nlargest(10)\n",
        "top10_by_rating = df_new.averageRating.repeat(array_genres.str.len()).groupby(np.concatenate(array_genres)).mean().nlargest(10)\n",
        "print(top10_by_votes)\n",
        "print(top10_by_rating)"
      ],
      "execution_count": 9,
      "outputs": [
        {
          "output_type": "stream",
          "name": "stdout",
          "text": [
            "sci-fi       2.926363\n",
            "film-noir    2.879454\n",
            "animation    2.878476\n",
            "fantasy      2.797974\n",
            "adventure    2.775299\n",
            "mystery      2.704150\n",
            "thriller     2.699707\n",
            "action       2.644901\n",
            "crime        2.615538\n",
            "horror       2.598428\n",
            "Name: log10Votes, dtype: float64\n",
            "news           7.285511\n",
            "documentary    7.266744\n",
            "talk-show      7.100000\n",
            "biography      7.051540\n",
            "history        6.907194\n",
            "music          6.728509\n",
            "film-noir      6.723836\n",
            "reality-tv     6.673333\n",
            "sport          6.582902\n",
            "war            6.576670\n",
            "Name: averageRating, dtype: float64\n"
          ]
        }
      ]
    },
    {
      "cell_type": "code",
      "metadata": {
        "colab": {
          "base_uri": "https://localhost:8080/",
          "height": 571
        },
        "id": "Devx8Frufikn",
        "outputId": "ffab4cf2-2603-4010-a27b-5c47a2b44876"
      },
      "source": [
        "import matplotlib.pyplot as plt\n",
        "\n",
        "avg_rating_vs_votes = df_new.groupby('averageRating')['log10Votes'].mean()\n",
        "print(avg_rating_vs_votes.reset_index())\n",
        "\n",
        "average_rating = avg_rating_vs_votes.reset_index()['averageRating']\n",
        "log10_votes = avg_rating_vs_votes.reset_index()['log10Votes']\n",
        "\n",
        "fig, ax = plt.subplots()\n",
        "\n",
        "plt.scatter(log10_votes, average_rating)\n",
        "ax.set_title('Average Rating vs Votes')\n",
        "ax.set_xlabel('log10 votes')\n",
        "ax.set_ylabel('average rating')"
      ],
      "execution_count": 10,
      "outputs": [
        {
          "output_type": "stream",
          "name": "stdout",
          "text": [
            "    averageRating  log10Votes\n",
            "0             1.0    1.725042\n",
            "1             1.1    2.094683\n",
            "2             1.2    2.271564\n",
            "3             1.3    2.016823\n",
            "4             1.4    1.891898\n",
            "..            ...         ...\n",
            "86            9.6    1.504343\n",
            "87            9.7    1.321140\n",
            "88            9.8    0.778151\n",
            "89            9.9    1.447158\n",
            "90           10.0    0.758356\n",
            "\n",
            "[91 rows x 2 columns]\n"
          ]
        },
        {
          "output_type": "execute_result",
          "data": {
            "text/plain": [
              "Text(0, 0.5, 'average rating')"
            ]
          },
          "metadata": {},
          "execution_count": 10
        },
        {
          "output_type": "display_data",
          "data": {
            "image/png": "[encoded data removed]",
            "text/plain": [
              "<Figure size 432x288 with 1 Axes>"
            ]
          },
          "metadata": {
            "needs_background": "light"
          }
        }
      ]
    },
    {
      "cell_type": "markdown",
      "metadata": {
        "id": "s59UZSB8iAzG"
      },
      "source": [
        "# Using ML Libraries to Perform Linear Regression"
      ]
    },
    {
      "cell_type": "code",
      "metadata": {
        "colab": {
          "base_uri": "https://localhost:8080/",
          "height": 368
        },
        "id": "cxP75D0NiG_Z",
        "outputId": "7836e82f-5fb7-44b6-a76d-02dfdde81d05"
      },
      "source": [
        "plt.scatter(log10_votes, average_rating)\n",
        "plt.title('Average Rating vs Votes')\n",
        "plt.xlabel('log10 votes')\n",
        "plt.ylabel('average rating')\n",
        "\n",
        "x = np.linspace(0, 2.75, 100)\n",
        "\n",
        "from sklearn.linear_model import LinearRegression\n",
        "\n",
        "model = LinearRegression().fit(log10_votes.to_numpy().reshape(-1, 1), average_rating)\n",
        "y = model.coef_[0]*x + model.intercept_\n",
        "\n",
        "plt.plot(x,y, label='sklearn')\n",
        "print(f\"Sklearn: The slope is {model.coef_} and the intercept is {model.intercept_}\")\n",
        "\n",
        "from scipy import stats\n",
        "\n",
        "model = stats.linregress(log10_votes, average_rating)\n",
        "y = model.slope*x + model.intercept\n",
        "\n",
        "plt.plot(x, y, label='scipy')\n",
        "print(f\"Scipy: The slope is {model.slope} and the intercept is {model.intercept}\")\n",
        "\n",
        "from torch import nn\n",
        "import torch\n",
        "from torch.autograd import Variable\n",
        "\n",
        "log10_votes_input = Variable(torch.Tensor([ [vote] for vote in log10_votes ]))\n",
        "average_rating_output = Variable(torch.Tensor([ [rating] for rating in average_rating ]))\n",
        "\n",
        "net = nn.Linear(1, 1)\n",
        "net.weight.data.normal_(0, 1)\n",
        "net.bias.data.fill_(0)\n",
        "\n",
        "loss = nn.MSELoss()\n",
        "optimiser = torch.optim.Adam(net.parameters(), lr = 0.05)\n",
        "\n",
        "num_epochs = 3000\n",
        "for epoch in range(num_epochs):\n",
        "      l = loss(net(log10_votes_input), average_rating_output)\n",
        "      optimiser.zero_grad()\n",
        "      l.backward()\n",
        "      optimiser.step()\n",
        "      # print(f\"epoch {epoch}, loss {l.item()}\".)\n",
        "\n",
        "w, b = net.weight.data.numpy(), net.bias.data.numpy()\n",
        "print(f\"Pytorch: The slope is {w} and the intercept is {b}\")\n",
        "\n",
        "inputs = Variable(torch.Tensor([[xpt] for xpt in x]))\n",
        "y = net(inputs).detach().numpy()\n",
        "plt.plot(x, y, label='pytorch')\n",
        "\n",
        "plt.legend()\n"
      ],
      "execution_count": 16,
      "outputs": [
        {
          "output_type": "stream",
          "name": "stdout",
          "text": [
            "Sklearn: The slope is [-3.54584321] and the intercept is 12.862503004363948\n",
            "Scipy: The slope is -3.5458432055463307 and the intercept is 12.862503004363944\n",
            "Pytorch: The slope is [[-3.5456753]] and the intercept is [12.862146]\n"
          ]
        },
        {
          "output_type": "execute_result",
          "data": {
            "text/plain": [
              "<matplotlib.legend.Legend at 0x7fd775eafc90>"
            ]
          },
          "metadata": {},
          "execution_count": 16
        },
        {
          "output_type": "display_data",
          "data": {
            "image/png": "[encoded data removed]",
            "text/plain": [
              "<Figure size 432x288 with 1 Axes>"
            ]
          },
          "metadata": {
            "needs_background": "light"
          }
        }
      ]
    },
    {
      "cell_type": "markdown",
      "metadata": {
        "id": "DbloTsRW28RF"
      },
      "source": [
        "As the graph above illustrates, the [*sklearn*](https://github.com/scikit-learn/scikit-learn/blob/0d378913b/sklearn/linear_model/_base.py#L507) and [*scipy*](https://github.com/scipy/scipy/blob/v1.7.1/scipy/stats/_stats_mstats_common.py#L16-L198) regression methods return the exact same result. Looking at the source code, this is because both of them use analytical methods involving matrices constructed from the training data to arrive at the slope and intercept.  In contrast, the approach used in the *pytorch* implementation is iterative - we need to select an optimizer (for instance stochastic gradient descent), a learning rate and a number of epochs to train for, and these hyperparameters affect the convergence of the algorithm. A learning rate of 0.05 and 3000 epochs of training caused the slope and intercept values to converge to those found in the analytical methods of the *sklearn* and *scipy* libraries.  This is shown by how all 3 lines overlap in the graph above.\n",
        "\n",
        "Clearly, a linear model underfits the data. A better approach would be to use non-linear regression (either kernel regression or some other kind of curve-fitting)."
      ]
    }
  ]
}