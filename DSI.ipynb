{
  "nbformat": 4,
  "nbformat_minor": 0,
  "metadata": {
    "colab": {
      "name": "DSI.ipynb",
      "provenance": [],
      "collapsed_sections": [],
      "authorship_tag": "ABX9TyOAJC8EgUTTy+xNxY4FNYlO",
      "include_colab_link": true
    },
    "kernelspec": {
      "name": "python3",
      "display_name": "Python 3"
    },
    "language_info": {
      "name": "python"
    }
  },
  "cells": [
    {
      "cell_type": "markdown",
      "metadata": {
        "id": "view-in-github",
        "colab_type": "text"
      },
      "source": [
        "<a href=\"https://colab.research.google.com/github/Nur-ayn/DSI/blob/main/DSI.ipynb\" target=\"_parent\"><img src=\"https://colab.research.google.com/assets/colab-badge.svg\" alt=\"Open In Colab\"/></a>"
      ]
    },
    {
      "cell_type": "markdown",
      "metadata": {
        "id": "uR5Fyc816u67"
      },
      "source": [
        "**Data Science with Pandas**\n",
        "\n",
        "This colab can be found on my github along with the answer for Question 1 in [this repo](https://github.com/Nur-ayn/DSI)"
      ]
    },
    {
      "cell_type": "code",
      "metadata": {
        "colab": {
          "base_uri": "https://localhost:8080/"
        },
        "id": "60v1wq7w7Ntw",
        "outputId": "5fe42ae1-1454-4c16-8e55-a41961258e33"
      },
      "source": [
        "import pandas as pd\n",
        "from google.colab import drive\n",
        "\n",
        "drive.mount('/content/gdrive', force_remount=True)\n",
        "\n",
        "files = ['title.akas.tsv.gz',\n",
        "         'title.basics.tsv.gz',\n",
        "         'title.ratings.tsv.gz']\n",
        "\n",
        "dataframes = []\n",
        "\n",
        "for file in files:\n",
        "  df = pd.read_csv(f\"/content/gdrive/MyDrive/datasets/{file}\", compression='gzip', sep='\\t')\n",
        "  dataframes.append(df)\n",
        "  print(df)\n"
      ],
      "execution_count": null,
      "outputs": [
        {
          "output_type": "stream",
          "name": "stdout",
          "text": [
            "Mounted at /content/gdrive\n"
          ]
        },
        {
          "output_type": "stream",
          "name": "stderr",
          "text": [
            "/usr/local/lib/python3.7/dist-packages/IPython/core/interactiveshell.py:2718: DtypeWarning: Columns (7) have mixed types.Specify dtype option on import or set low_memory=False.\n",
            "  interactivity=interactivity, compiler=compiler, result=result)\n"
          ]
        },
        {
          "output_type": "stream",
          "name": "stdout",
          "text": [
            "           titleId  ordering  ... attributes isOriginalTitle\n",
            "0        tt0000001         1  ...         \\N               0\n",
            "1        tt0000001         2  ...         \\N               0\n",
            "2        tt0000001         3  ...         \\N               0\n",
            "3        tt0000001         4  ...         \\N               1\n",
            "4        tt0000002         1  ...         \\N               1\n",
            "...            ...       ...  ...        ...             ...\n",
            "3423655  tt9118622         2  ...         \\N               0\n",
            "3423656  tt9118622         3  ...         \\N               1\n",
            "3423657  tt9118622         4  ...         \\N               0\n",
            "3423658  tt9118622         5  ...         \\N               0\n",
            "3423659  tt9118622         6  ...         \\N               0\n",
            "\n",
            "[3423660 rows x 8 columns]\n"
          ]
        },
        {
          "output_type": "stream",
          "name": "stderr",
          "text": [
            "/usr/local/lib/python3.7/dist-packages/IPython/core/interactiveshell.py:2718: DtypeWarning: Columns (5) have mixed types.Specify dtype option on import or set low_memory=False.\n",
            "  interactivity=interactivity, compiler=compiler, result=result)\n"
          ]
        },
        {
          "output_type": "stream",
          "name": "stdout",
          "text": [
            "            tconst  titleType  ... runtimeMinutes                    genres\n",
            "0        tt0000001      short  ...              1         Documentary,Short\n",
            "1        tt0000002      short  ...              5           Animation,Short\n",
            "2        tt0000003      short  ...              4  Animation,Comedy,Romance\n",
            "3        tt0000004      short  ...             \\N           Animation,Short\n",
            "4        tt0000005      short  ...              1              Comedy,Short\n",
            "...            ...        ...  ...            ...                       ...\n",
            "5330271  tt9120652  tvEpisode  ...             \\N       Comedy,Drama,Family\n",
            "5330272  tt9120654  tvEpisode  ...             \\N       Comedy,Drama,Family\n",
            "5330273  tt9120656      short  ...             10              Horror,Short\n",
            "5330274  tt9120782  videoGame  ...             \\N                        \\N\n",
            "5330275  tt9120906  tvEpisode  ...             \\N       Comedy,Drama,Family\n",
            "\n",
            "[5330276 rows x 9 columns]\n",
            "           tconst  averageRating  numVotes\n",
            "0       tt0000001            5.8      1422\n",
            "1       tt0000002            6.4       168\n",
            "2       tt0000003            6.6      1015\n",
            "3       tt0000004            6.4       100\n",
            "4       tt0000005            6.2      1713\n",
            "...           ...            ...       ...\n",
            "874198  tt9100972            7.0         5\n",
            "874199  tt9104810            7.0         7\n",
            "874200  tt9106766            7.6         5\n",
            "874201  tt9107292            8.4        10\n",
            "874202  tt9112162            9.9        10\n",
            "\n",
            "[874203 rows x 3 columns]\n"
          ]
        }
      ]
    },
    {
      "cell_type": "code",
      "metadata": {
        "id": "tVFkMFDHnd7C",
        "colab": {
          "base_uri": "https://localhost:8080/"
        },
        "outputId": "b34f47c7-d8ec-41c6-f545-41d3f15f9eb0"
      },
      "source": [
        "# for df in dataframes:\n",
        "#   df.drop_duplicates(inplace=True)\n",
        "\n",
        "akas, basics, ratings = dataframes[0], dataframes[1], dataframes[2]\n",
        "akas.drop_duplicates(subset=\"titleId\", inplace=True)\n",
        "basics.drop_duplicates(subset=\"tconst\", inplace=True)\n",
        "ratings.drop_duplicates(subset=\"tconst\", inplace=True)\n",
        "print(akas)\n",
        "print(basics)\n",
        "print(ratings)"
      ],
      "execution_count": null,
      "outputs": [
        {
          "output_type": "stream",
          "name": "stdout",
          "text": [
            "           titleId  ordering  ...   attributes isOriginalTitle\n",
            "0        tt0000001         1  ...           \\N               0\n",
            "4        tt0000002         1  ...           \\N               1\n",
            "10       tt0000003         1  ...           \\N               0\n",
            "16       tt0000004         1  ...           \\N               1\n",
            "22       tt0000005         1  ...           \\N               0\n",
            "...            ...       ...  ...          ...             ...\n",
            "3423644  tt9115578         1  ...           \\N               1\n",
            "3423647  tt9115604         1  ...           \\N               1\n",
            "3423649  tt9115648         1  ...           \\N               0\n",
            "3423652  tt9116088         1  ...  short title               0\n",
            "3423654  tt9118622         1  ...           \\N               0\n",
            "\n",
            "[2017572 rows x 8 columns]\n",
            "            tconst  titleType  ... runtimeMinutes                    genres\n",
            "0        tt0000001      short  ...              1         Documentary,Short\n",
            "1        tt0000002      short  ...              5           Animation,Short\n",
            "2        tt0000003      short  ...              4  Animation,Comedy,Romance\n",
            "3        tt0000004      short  ...             \\N           Animation,Short\n",
            "4        tt0000005      short  ...              1              Comedy,Short\n",
            "...            ...        ...  ...            ...                       ...\n",
            "5330271  tt9120652  tvEpisode  ...             \\N       Comedy,Drama,Family\n",
            "5330272  tt9120654  tvEpisode  ...             \\N       Comedy,Drama,Family\n",
            "5330273  tt9120656      short  ...             10              Horror,Short\n",
            "5330274  tt9120782  videoGame  ...             \\N                        \\N\n",
            "5330275  tt9120906  tvEpisode  ...             \\N       Comedy,Drama,Family\n",
            "\n",
            "[5330276 rows x 9 columns]\n",
            "           tconst  averageRating  numVotes\n",
            "0       tt0000001            5.8      1422\n",
            "1       tt0000002            6.4       168\n",
            "2       tt0000003            6.6      1015\n",
            "3       tt0000004            6.4       100\n",
            "4       tt0000005            6.2      1713\n",
            "...           ...            ...       ...\n",
            "874198  tt9100972            7.0         5\n",
            "874199  tt9104810            7.0         7\n",
            "874200  tt9106766            7.6         5\n",
            "874201  tt9107292            8.4        10\n",
            "874202  tt9112162            9.9        10\n",
            "\n",
            "[874203 rows x 3 columns]\n"
          ]
        }
      ]
    },
    {
      "cell_type": "code",
      "metadata": {
        "colab": {
          "base_uri": "https://localhost:8080/"
        },
        "id": "zQ6fu5_f6Gbn",
        "outputId": "c49d3dec-a92d-415c-fd74-6f249ceaa581"
      },
      "source": [
        "big_df = akas.merge(basics, how='inner', left_on='titleId', right_on='tconst') \\\n",
        "         .merge(ratings, how='inner', left_on='titleId', right_on='tconst')\n",
        "big_df_outer = akas.merge(basics, how='outer', left_on='titleId', right_on='tconst') \\\n",
        "               .merge(ratings, how='outer', left_on='titleId', right_on='tconst')\n",
        "print(big_df)\n",
        "print(big_df.columns)\n",
        "print(big_df_outer)\n",
        "print(big_df_outer.columns)"
      ],
      "execution_count": null,
      "outputs": [
        {
          "output_type": "stream",
          "name": "stdout",
          "text": [
            "          titleId  ordering  ... averageRating numVotes\n",
            "0       tt0000001         1  ...           5.8     1422\n",
            "1       tt0000002         1  ...           6.4      168\n",
            "2       tt0000003         1  ...           6.6     1015\n",
            "3       tt0000004         1  ...           6.4      100\n",
            "4       tt0000005         1  ...           6.2     1713\n",
            "...           ...       ...  ...           ...      ...\n",
            "584789  tt9098996         1  ...           9.2        6\n",
            "584790  tt9100002         1  ...           7.0        5\n",
            "584791  tt9100068         1  ...           7.0        5\n",
            "584792  tt9100098         1  ...           7.0        5\n",
            "584793  tt9100972         1  ...           7.0        5\n",
            "\n",
            "[584794 rows x 20 columns]\n",
            "Index(['titleId', 'ordering', 'title', 'region', 'language', 'types',\n",
            "       'attributes', 'isOriginalTitle', 'tconst_x', 'titleType',\n",
            "       'primaryTitle', 'originalTitle', 'isAdult', 'startYear', 'endYear',\n",
            "       'runtimeMinutes', 'genres', 'tconst_y', 'averageRating', 'numVotes'],\n",
            "      dtype='object')\n",
            "           titleId  ordering  ... averageRating numVotes\n",
            "0        tt0000001       1.0  ...           5.8   1422.0\n",
            "1        tt0000002       1.0  ...           6.4    168.0\n",
            "2        tt0000003       1.0  ...           6.6   1015.0\n",
            "3        tt0000004       1.0  ...           6.4    100.0\n",
            "4        tt0000005       1.0  ...           6.2   1713.0\n",
            "...            ...       ...  ...           ...      ...\n",
            "5623405        NaN       NaN  ...           4.0     14.0\n",
            "5623406        NaN       NaN  ...           7.0      7.0\n",
            "5623407        NaN       NaN  ...           7.6      5.0\n",
            "5623408        NaN       NaN  ...           8.4     10.0\n",
            "5623409        NaN       NaN  ...           9.9     10.0\n",
            "\n",
            "[5623410 rows x 20 columns]\n",
            "Index(['titleId', 'ordering', 'title', 'region', 'language', 'types',\n",
            "       'attributes', 'isOriginalTitle', 'tconst_x', 'titleType',\n",
            "       'primaryTitle', 'originalTitle', 'isAdult', 'startYear', 'endYear',\n",
            "       'runtimeMinutes', 'genres', 'tconst_y', 'averageRating', 'numVotes'],\n",
            "      dtype='object')\n"
          ]
        }
      ]
    },
    {
      "cell_type": "code",
      "metadata": {
        "colab": {
          "base_uri": "https://localhost:8080/"
        },
        "id": "MfRN6Coy4Cdb",
        "outputId": "b4c09f2f-ce12-432b-bffd-69215e6daf1a"
      },
      "source": [
        "!git commit -m 'experimenting with merging dataframes'"
      ],
      "execution_count": null,
      "outputs": [
        {
          "output_type": "stream",
          "name": "stdout",
          "text": [
            "On branch master\n",
            "\n",
            "Initial commit\n",
            "\n",
            "Untracked files:\n",
            "\t\u001b[31m.config/\u001b[m\n",
            "\t\u001b[31mgdrive/\u001b[m\n",
            "\t\u001b[31msample_data/\u001b[m\n",
            "\n",
            "nothing added to commit but untracked files present\n"
          ]
        }
      ]
    },
    {
      "cell_type": "code",
      "metadata": {
        "colab": {
          "base_uri": "https://localhost:8080/"
        },
        "id": "B3K3v8md41fF",
        "outputId": "65680b4c-0091-45b3-916b-28ca6634d4de"
      },
      "source": [
        "\n",
        "!ssh-keygen -t ed25519"
      ],
      "execution_count": null,
      "outputs": [
        {
          "output_type": "stream",
          "name": "stdout",
          "text": [
            "Generating public/private ed25519 key pair.\n",
            "Enter file in which to save the key (/root/.ssh/id_ed25519): \n",
            "Enter passphrase (empty for no passphrase): 1729\n",
            "Enter same passphrase again: 1729\n",
            "Your identification has been saved in /root/.ssh/id_ed25519.\n",
            "Your public key has been saved in /root/.ssh/id_ed25519.pub.\n",
            "The key fingerprint is:\n",
            "SHA256:XJoeDuj24Md0QRm03QvKhv8EqkYrBayBvkOWtx0FoRc root@873c07e55589\n",
            "The key's randomart image is:\n",
            "+--[ED25519 256]--+\n",
            "|     E..oo       |\n",
            "|    ... oo .     |\n",
            "|.. . .... + .    |\n",
            "|o o .. =.= . .   |\n",
            "|.o... + S.  .    |\n",
            "|.= oo..B.o       |\n",
            "|o oo*+o.+ .      |\n",
            "| o.+o=o  o       |\n",
            "|  .oo..   .      |\n",
            "+----[SHA256]-----+\n"
          ]
        }
      ]
    },
    {
      "cell_type": "code",
      "metadata": {
        "colab": {
          "base_uri": "https://localhost:8080/"
        },
        "id": "gFXZ3bryRinf",
        "outputId": "d416eda5-7f66-4241-e777-338ee5ab22a9"
      },
      "source": [
        "!mkdir /root/.ssh"
      ],
      "execution_count": null,
      "outputs": [
        {
          "output_type": "stream",
          "name": "stdout",
          "text": [
            "mkdir: cannot create directory ‘/root/.ssh’: File exists\n"
          ]
        }
      ]
    }
  ]
}